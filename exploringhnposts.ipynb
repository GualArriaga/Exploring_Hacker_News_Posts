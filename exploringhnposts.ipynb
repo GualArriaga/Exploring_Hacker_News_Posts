{
 "cells": [
  {
   "cell_type": "markdown",
   "metadata": {
    "collapsed": true
   },
   "source": [
    "# EXPLORING HACKER NEWS POSTS"
   ]
  },
  {
   "cell_type": "markdown",
   "metadata": {},
   "source": [
    "## INTRODUCTION\n",
    "\n",
    "In this project, I am going to explore the data of Hacker News site. We will be focused on the posts and their quantity of comments to measure engagement. Our interest is in two main posts categories, **ASK HN** and **SHOW HN**.\n",
    "\n",
    "Please, notice that I did the project without using numpy arrays or pandas. We know that it could have helped, but I intended to do it only using lists and dictionaries. \n",
    "\n",
    "Let's go!"
   ]
  },
  {
   "cell_type": "markdown",
   "metadata": {},
   "source": [
    "### Database exploration and preparation"
   ]
  },
  {
   "cell_type": "markdown",
   "metadata": {},
   "source": [
    "We start the project reading the csv file. To do that, we will import the reader method from csv. "
   ]
  },
  {
   "cell_type": "code",
   "execution_count": 2,
   "metadata": {},
   "outputs": [
    {
     "name": "stdout",
     "output_type": "stream",
     "text": [
      "[['id', 'title', 'url', 'num_points', 'num_comments', 'author', 'created_at'], ['12224879', 'Interactive Dynamic Video', 'http://www.interactivedynamicvideo.com/', '386', '52', 'ne0phyte', '8/4/2016 11:52'], ['10975351', 'How to Use Open Source and Shut the Fuck Up at the Same Time', 'http://hueniverse.com/2016/01/26/how-to-use-open-source-and-shut-the-fuck-up-at-the-same-time/', '39', '10', 'josep2', '1/26/2016 19:30'], ['11964716', \"Florida DJs May Face Felony for April Fools' Water Joke\", 'http://www.thewire.com/entertainment/2013/04/florida-djs-april-fools-water-joke/63798/', '2', '1', 'vezycash', '6/23/2016 22:20']]\n"
     ]
    }
   ],
   "source": [
    "from csv import reader\n",
    "import plotly.graph_objects as go\n",
    "\n",
    "opened_base = open(r'C:\\Users\\igual\\Desktop\\IÑAKI\\1.DATA\\DATAQUEST\\2. COURSE 2 PHYTON INTERMEDIATE\\guided project_ exploring hacker news posts\\hacker_news.csv')\n",
    "readed_base = reader(opened_base)\n",
    "hn = list(readed_base)\n",
    "print(hn[0:4])"
   ]
  },
  {
   "cell_type": "markdown",
   "metadata": {},
   "source": [
    "Once we have the database as a list of lists, we have to **explore this database**. "
   ]
  },
  {
   "cell_type": "code",
   "execution_count": 3,
   "metadata": {},
   "outputs": [
    {
     "name": "stdout",
     "output_type": "stream",
     "text": [
      "['id', 'title', 'url', 'num_points', 'num_comments', 'author', 'created_at']\n",
      "\n",
      "\n",
      "['12224879', 'Interactive Dynamic Video', 'http://www.interactivedynamicvideo.com/', '386', '52', 'ne0phyte', '8/4/2016 11:52']\n",
      "\n",
      "\n",
      "Number of rows: 20101\n",
      "Number of columns: 7\n"
     ]
    }
   ],
   "source": [
    "#We create a function to help us exploring any database of the project\n",
    "def explore_data(dataset, start=0, end =2, rows_and_columns=True):\n",
    "    dataset_slice = dataset[start:end]    \n",
    "    for row in dataset_slice:\n",
    "        print(row)\n",
    "        print('\\n') # adds a new (empty) line after each row\n",
    "\n",
    "    if rows_and_columns:\n",
    "        print('Number of rows:', len(dataset))\n",
    "        print('Number of columns:', len(dataset[0]))\n",
    "\n",
    "explore_data(hn)"
   ]
  },
  {
   "cell_type": "markdown",
   "metadata": {},
   "source": [
    "As we can see, we are managing data of 20k rows and 7 columns. The next step will be to isolate the header row and create the database without the header. "
   ]
  },
  {
   "cell_type": "code",
   "execution_count": 4,
   "metadata": {},
   "outputs": [
    {
     "name": "stdout",
     "output_type": "stream",
     "text": [
      "['12224879', 'Interactive Dynamic Video', 'http://www.interactivedynamicvideo.com/', '386', '52', 'ne0phyte', '8/4/2016 11:52']\n",
      "\n",
      "\n",
      "['10975351', 'How to Use Open Source and Shut the Fuck Up at the Same Time', 'http://hueniverse.com/2016/01/26/how-to-use-open-source-and-shut-the-fuck-up-at-the-same-time/', '39', '10', 'josep2', '1/26/2016 19:30']\n",
      "\n",
      "\n",
      "Number of rows: 20100\n",
      "Number of columns: 7\n"
     ]
    }
   ],
   "source": [
    "hn_header = hn[0]\n",
    "hn = hn[1:]\n",
    "explore_data(hn)"
   ]
  },
  {
   "cell_type": "markdown",
   "metadata": {},
   "source": [
    "I like to check if some **missing data or error values** could interfere in our analysis. Function is limited to the numerical columns: num_points (index 3) and num_comments(index 4)."
   ]
  },
  {
   "cell_type": "code",
   "execution_count": 5,
   "metadata": {},
   "outputs": [
    {
     "name": "stdout",
     "output_type": "stream",
     "text": [
      "No errors found\n"
     ]
    }
   ],
   "source": [
    "def search_missing_nan(dataset):\n",
    "    count = 0\n",
    "    for row in dataset:\n",
    "        for a in row[3:4]:\n",
    "            if a == '' or a == 'Nan':\n",
    "                print('error: ',row)\n",
    "                print(dataset.index(row))\n",
    "                count +=1\n",
    "            else:\n",
    "                pass\n",
    "    if count == 0:\n",
    "        print('No errors found')\n",
    "search_missing_nan(hn)"
   ]
  },
  {
   "cell_type": "markdown",
   "metadata": {},
   "source": [
    "We have not found any errors that could affect our upcoming analysis. \n",
    "Let's start to work with the data. "
   ]
  },
  {
   "cell_type": "markdown",
   "metadata": {},
   "source": [
    "### Categorizing data"
   ]
  },
  {
   "cell_type": "markdown",
   "metadata": {},
   "source": [
    "In this part, we want to obtain just the data that we are interested in. So, we filter by the titles that begin with ASK HN and SHOW HN. We will also check the rest to have a complete picture of the site."
   ]
  },
  {
   "cell_type": "code",
   "execution_count": 6,
   "metadata": {},
   "outputs": [
    {
     "name": "stdout",
     "output_type": "stream",
     "text": [
      "['12296411', 'Ask HN: How to improve my personal website?', '', '2', '6', 'ahmedbaracat', '8/16/2016 9:55']\n",
      "\n",
      "\n",
      "Number of rows: 1744\n",
      "Number of columns: 7\n",
      "share:  8.68\n",
      "---------------\n",
      "['10627194', 'Show HN: Wio Link  ESP8266 Based Web of Things Hardware Development Platform', 'https://iot.seeed.cc', '26', '22', 'kfihihc', '11/25/2015 14:03']\n",
      "\n",
      "\n",
      "Number of rows: 1162\n",
      "Number of columns: 7\n",
      "share:  5.78\n",
      "---------------\n",
      "['12224879', 'Interactive Dynamic Video', 'http://www.interactivedynamicvideo.com/', '386', '52', 'ne0phyte', '8/4/2016 11:52']\n",
      "\n",
      "\n",
      "Number of rows: 17194\n",
      "Number of columns: 7\n",
      "share:  85.54\n"
     ]
    }
   ],
   "source": [
    "#we create three empty lists: \n",
    "ask_posts = []\n",
    "show_posts = []\n",
    "other_posts = []\n",
    "\n",
    "for row in hn: \n",
    "    title = row[1]\n",
    "    if title.lower().startswith('ask hn'):\n",
    "        ask_posts.append(row)\n",
    "    elif title.lower().startswith('show hn'):\n",
    "        show_posts.append(row)\n",
    "    else:\n",
    "        other_posts.append(row)\n",
    "\n",
    "explore_data(ask_posts,0,1)\n",
    "print('share: ',round(len(ask_posts)/len(hn)*100,2))\n",
    "print('---------------')\n",
    "explore_data(show_posts,0,1)\n",
    "print('share: ',round(len(show_posts)/len(hn)*100,2))\n",
    "print('---------------')\n",
    "explore_data(other_posts,0,1)\n",
    "print('share: ',round(len(other_posts)/len(hn)*100,2))"
   ]
  },
  {
   "cell_type": "markdown",
   "metadata": {},
   "source": [
    "Number of posts by category: \n",
    "\n",
    "| Categories |Number of Posts| Share |\n",
    "|---|---|---|\n",
    "|Ask |1.744|8.68%|\n",
    "|Show|1.162|5.78%|\n",
    "|Others|17.194|85.54%|"
   ]
  },
  {
   "cell_type": "markdown",
   "metadata": {},
   "source": [
    "## Analyzing the data"
   ]
  },
  {
   "cell_type": "markdown",
   "metadata": {},
   "source": [
    "### Number of comments depending on the category"
   ]
  },
  {
   "cell_type": "markdown",
   "metadata": {},
   "source": [
    "The first information that we want to gather is the average number of comments that have each category. Knowing the average number of comments, we can know which category engage the most with the readers. "
   ]
  },
  {
   "cell_type": "code",
   "execution_count": 7,
   "metadata": {},
   "outputs": [
    {
     "name": "stdout",
     "output_type": "stream",
     "text": [
      "average comments in ask posts:  14.04\n",
      "average comments in show posts:  10.32\n",
      "average comments in other posts:  26.87\n"
     ]
    }
   ],
   "source": [
    "#We have to create a variable with value 0 to add the number of\n",
    "#comments in each iteration\n",
    "def avg_comments(data):\n",
    "    total_comments = 0\n",
    "    for row in data: \n",
    "        total_comments += int(row[4])\n",
    "    return (round(total_comments/len(data),2))\n",
    "print('average comments in ask posts: ',avg_comments(ask_posts))\n",
    "print('average comments in show posts: ',avg_comments(show_posts))\n",
    "print('average comments in other posts: ',avg_comments(other_posts))"
   ]
  },
  {
   "cell_type": "markdown",
   "metadata": {},
   "source": [
    "As we can observe, there is a difference of fewer than 4 posts between the two categories that we are interested in. **Ask posts is the category most commented on with 14.04 comments per post**. On the other hand, show posts have an average of 10.32 comments.\n"
   ]
  },
  {
   "cell_type": "markdown",
   "metadata": {},
   "source": [
    "The other posts have many more comments than our two focus categories. I would like to know which kind of comments are the most commented and what they are talking about. "
   ]
  },
  {
   "cell_type": "code",
   "execution_count": 8,
   "metadata": {},
   "outputs": [
    {
     "name": "stdout",
     "output_type": "stream",
     "text": [
      "\u001b[1m TOP 5 POSTS BY NUMBER OF COMMENTs \u001b[0m\n",
      "iPhone 7 :  1,733\n",
      "A Basic Income Should Be the Next Big Thing :  809\n",
      "Pardon Snowden :  781\n",
      "Massachusetts Bans Employers from Asking Applicants About Previous Pay :  760\n",
      "VLC contributor living in Aleppo writing about the Paris attacks :  705\n",
      "Master Plan, Part Deux :  677\n",
      "New Windows 10 Devices From Microsoft :  644\n",
      "Paris Shootings and Explosions Kill Over 100, Police Say :  624\n",
      "How the Sugar Industry Shifted Blame to Fat :  599\n",
      "Tech workers are increasingly looking to leave Silicon Valley :  569\n"
     ]
    }
   ],
   "source": [
    "list_other_posts = []\n",
    "for row in other_posts: \n",
    "    post = row[1]\n",
    "    comments = int(row[4])\n",
    "    key_tuple = (comments,post)\n",
    "    list_other_posts.append(key_tuple)\n",
    "sorted_list = sorted(list_other_posts, reverse = True)\n",
    "print(\"\\033[1m\",'TOP 5 POSTS BY NUMBER OF COMMENTs',\"\\033[0m\")#we use the string \"\\033[1m\" to put the letters in bold \n",
    "#and 0m to return to normal\n",
    "for row in sorted_list[:10]:\n",
    "    comments = row[0]\n",
    "    post = row[1]\n",
    "    print(post, ': ','{:,.0f}'.format(comments))"
   ]
  },
  {
   "cell_type": "markdown",
   "metadata": {},
   "source": [
    "I think that these findings are fascinating. Only two posts in the top ten are strongly related to technology. **The posts with more comments talk about social/political/economic issues**. However, we can not forget that the most commented post is about **Iphone 7**."
   ]
  },
  {
   "cell_type": "markdown",
   "metadata": {},
   "source": [
    "### Number of comments depending on the time."
   ]
  },
  {
   "cell_type": "markdown",
   "metadata": {},
   "source": [
    "We will check how many posts and comments are depending on the post time. To not be repetitive, **we will only focus on ASK posts** because it is the category with more comments on average. If we wanted to have the same information with show posts, it is the same process but changing the data. \n",
    "\n",
    "**Ask posts**\n",
    "\n",
    "We have to create 4 different dictionaries to extract all the information. We want to know the total number of posts and the average number of comments by hour and weekday. \n"
   ]
  },
  {
   "cell_type": "code",
   "execution_count": 9,
   "metadata": {},
   "outputs": [],
   "source": [
    "import datetime as dt\n",
    "result_list = []\n",
    "for row in ask_posts:\n",
    "    created_at = row[6]\n",
    "    comments = int(row[4])\n",
    "    result_list.append([created_at,comments])\n",
    "counts_by_hour = {}\n",
    "comments_by_hour = {}\n",
    "counts_by_day = {}\n",
    "comments_by_day = {}\n",
    "for row in result_list:\n",
    "    date = dt.datetime.strptime(row[0], \"%m/%d/%Y %H:%M\")\n",
    "    hour = date.strftime('%H')\n",
    "    weekday = date.strftime('%A')\n",
    "    if weekday in counts_by_day:\n",
    "        counts_by_day[weekday] +=1\n",
    "        comments_by_day[weekday]+= row[1]\n",
    "    else:\n",
    "        counts_by_day[weekday] =1\n",
    "        comments_by_day[weekday]= row[1]     \n",
    "    if hour in counts_by_hour:\n",
    "        counts_by_hour[hour] += 1\n",
    "        comments_by_hour[hour] += row[1]\n",
    "    else:\n",
    "        counts_by_hour[hour] = 1\n",
    "        comments_by_hour[hour] = row[1]\n"
   ]
  },
  {
   "cell_type": "markdown",
   "metadata": {},
   "source": [
    "First, we will show the number of **posts per hour**. To plot the results, I will use Plotly Graph Object. It is a personal decision, Matplotlib, Seaborn, Bokeh would work as well. "
   ]
  },
  {
   "cell_type": "code",
   "execution_count": 12,
   "metadata": {},
   "outputs": [
    {
     "data": {
      "image/png": "[encoded data removed]"
     },
     "metadata": {},
     "output_type": "display_data"
    },
    {
     "name": "stdout",
     "output_type": "stream",
     "text": [
      "\u001b[1m THE TOP 5 HOURS PER POST QUANTITY ARE:  \u001b[0m\n",
      "15:00: 116\n",
      "19:00: 110\n",
      "21:00: 109\n",
      "18:00: 109\n",
      "16:00: 108\n"
     ]
    }
   ],
   "source": [
    "table_display = []\n",
    "hours_plot = []\n",
    "for key in counts_by_hour:\n",
    "        key_val_as_tuple = (counts_by_hour[key], key)\n",
    "        hours_tuple = (int(key),counts_by_hour[key])\n",
    "        table_display.append(key_val_as_tuple)\n",
    "        hours_plot.append(hours_tuple)\n",
    "        table_sorted = sorted(table_display, reverse = True)\n",
    "        table_sorted_hours = sorted(hours_plot, reverse = False)\n",
    "\n",
    "posts = []\n",
    "hours = []\n",
    "for key in table_sorted_hours:\n",
    "    post = key[1]\n",
    "    hour = key[0]\n",
    "    posts.append(post)\n",
    "    hours.append(hour)\n",
    "    \n",
    "fig = go.Figure(data=[go.Bar(\n",
    "            x=hours, y=posts,\n",
    "            text=posts,\n",
    "            textposition='auto',\n",
    "        )])\n",
    "fig.update_layout(title = 'TOTAL NUMBER OF POSTS PER HOUR',plot_bgcolor='rgba(0,0,0,0)',)\n",
    "fig.show(renderer = 'png')\n",
    "\n",
    "print(\"\\033[1m\",'THE TOP 5 HOURS PER POST QUANTITY ARE: ',\"\\033[0m\")\n",
    "for entry in table_sorted[:5]:\n",
    "        print(entry[1]+':00' ':', \"{:,.0f}\".format(entry[0]))"
   ]
  },
  {
   "cell_type": "markdown",
   "metadata": {},
   "source": [
    "We have seen that from 15h to 21h is when people publish more on Hacker News. Now we will show the number of **average number of \n",
    "comments per hour**. "
   ]
  },
  {
   "cell_type": "code",
   "execution_count": 15,
   "metadata": {},
   "outputs": [
    {
     "data": {
      "image/png": "[encoded data removed]"
     },
     "metadata": {},
     "output_type": "display_data"
    }
   ],
   "source": [
    "#We transform it to a tuple to be able to sort it. \n",
    "table_display2 = []\n",
    "hours_avg_plot = []\n",
    "for key in comments_by_hour:\n",
    "        number_posts = counts_by_hour[key]\n",
    "        key_val_as_tuple = (comments_by_hour[key]/number_posts, key) #We have to calculate de avg number of comments.\n",
    "        hours_tuple_avg = (key,comments_by_hour[key]/number_posts)\n",
    "        table_display2.append(key_val_as_tuple)\n",
    "        hours_avg_plot.append(hours_tuple_avg)\n",
    "        table_sorted2 = sorted(table_display2, reverse = True)\n",
    "        plot_hours_sorted = sorted(hours_avg_plot,reverse = False)\n",
    "avg_posts = []\n",
    "hours2 = []\n",
    "for key in plot_hours_sorted:\n",
    "    post = round(key[1],2)\n",
    "    hour = key[0]\n",
    "    avg_posts.append(post)\n",
    "    hours2.append(hour)\n",
    "    \n",
    "fig2 = go.Figure(data=[go.Bar(\n",
    "            x=hours2, y=avg_posts,\n",
    "            text= avg_posts,\n",
    "            textposition='auto',\n",
    "            \n",
    "        )])\n",
    "fig2.update_layout(title = 'AVG NUMBER OF COMMENTS PER HOUR',plot_bgcolor='rgba(0,0,0,0)',)\n",
    "fig2.show(renderer = 'png')\n"
   ]
  },
  {
   "cell_type": "markdown",
   "metadata": {},
   "source": [
    "We will see the top five hour to post an ask post to recieve more comments. As we are not based on East coast, we will change it to Central Europe timezone. "
   ]
  },
  {
   "cell_type": "code",
   "execution_count": 11,
   "metadata": {},
   "outputs": [
    {
     "name": "stdout",
     "output_type": "stream",
     "text": [
      "\u001b[1m East Coast timezone: \u001b[0m\n",
      "15:00: 38.59 average comments per post\n",
      "02:00: 23.81 average comments per post\n",
      "20:00: 21.52 average comments per post\n",
      "16:00: 16.80 average comments per post\n",
      "21:00: 16.01 average comments per post\n",
      "\n",
      "\n",
      "\u001b[1m Central Europe timezone: \u001b[0m\n",
      "20:00: 38.59 average comments per post\n",
      "07:00: 23.81 average comments per post\n",
      "01:00: 21.52 average comments per post\n",
      "21:00: 16.80 average comments per post\n",
      "02:00: 16.01 average comments per post\n"
     ]
    }
   ],
   "source": [
    "print(\"\\033[1m\",'East Coast timezone:',\"\\033[0m\")\n",
    "for avg, hour in table_sorted2[0:5]:\n",
    "    hour = str(hour)\n",
    "    print('{}: {:.2f} average comments per post'.format(\n",
    "        dt.datetime.strptime(hour,'%H').strftime('%H:%M'),avg\n",
    "             )\n",
    "         )\n",
    "print('\\n')\n",
    "print(\"\\033[1m\",'Central Europe timezone:',\"\\033[0m\")\n",
    "table_here = []\n",
    "for avg, hour in table_sorted2:\n",
    "    hour = str(hour)\n",
    "    hour = dt.datetime.strptime(hour,'%H')\n",
    "    hour_here = hour + dt.timedelta(hours=5)\n",
    "    hour_here = hour_here.hour\n",
    "    tuple_here = (avg,hour_here)\n",
    "    table_here.append(tuple_here)\n",
    "\n",
    "for avg, hour_here in table_here[0:5]:\n",
    "    hour_here = str(hour_here)\n",
    "    print('{}: {:.2f} average comments per post'.format(\n",
    "        dt.datetime.strptime(hour_here,'%H').strftime('%H:%M'),avg\n",
    "             )\n",
    "         )\n"
   ]
  },
  {
   "cell_type": "markdown",
   "metadata": {},
   "source": [
    "The \"hottest\" hour to post is the 15.00 East Coast. It is also when more posts are published, so we can affirm that it is the most active hacker news hour. In general terms, hacker news has **more comments and posts in the afternoon than in the morning**. Not an early bird platform. "
   ]
  },
  {
   "cell_type": "markdown",
   "metadata": {},
   "source": [
    "Now, is the turn of **analyzing by weekday**.\n",
    "\n",
    "We will start calculating the total number of posts."
   ]
  },
  {
   "cell_type": "code",
   "execution_count": 14,
   "metadata": {},
   "outputs": [
    {
     "data": {
      "image/png": "[encoded data removed]"
     },
     "metadata": {},
     "output_type": "display_data"
    },
    {
     "name": "stdout",
     "output_type": "stream",
     "text": [
      "Wednesday:294 posts published\n",
      "Tuesday:288 posts published\n",
      "Monday:285 posts published\n",
      "Friday:271 posts published\n",
      "Thursday:254 posts published\n",
      "Saturday:190 posts published\n",
      "Sunday:162 posts published\n"
     ]
    }
   ],
   "source": [
    "table_display_weekday = []\n",
    "table_display_weekday_plot = {}\n",
    "for key in counts_by_day:\n",
    "        key_val_as_tuple_day = (counts_by_day[key], key)\n",
    "        table_display_weekday_plot[key] = counts_by_day[key]\n",
    "        table_display_weekday.append(key_val_as_tuple_day)\n",
    "        table_sorted_weekday = sorted(table_display_weekday, reverse = True)\n",
    "\n",
    "weekdays = ['Monday','Tuesday', 'Wednesday', 'Thursday', 'Friday', 'Saturday', 'Sunday']\n",
    "y = []\n",
    "for day in weekdays:\n",
    "    count = int(table_display_weekday_plot[day])\n",
    "    y.append(count)\n",
    "fig3 = go.Figure(data=[go.Bar(\n",
    "            x=weekdays, y=y,\n",
    "            text= y,\n",
    "            textposition='auto',\n",
    "            \n",
    "        )])\n",
    "fig3.update_layout(title = 'TOTAL NUMBER OF POSTS PER DAY',plot_bgcolor='rgba(0,0,0,0)',)\n",
    "fig3.show(renderer = 'png')\n",
    "for entry in table_sorted_weekday:\n",
    "        print(\"{}:{:,.0f} posts published\".format(entry[1],entry[0]))"
   ]
  },
  {
   "cell_type": "markdown",
   "metadata": {},
   "source": [
    "Now, the **average of comments per post**."
   ]
  },
  {
   "cell_type": "code",
   "execution_count": 13,
   "metadata": {},
   "outputs": [
    {
     "data": {
      "image/png": "[encoded data removed]"
     },
     "metadata": {},
     "output_type": "display_data"
    },
    {
     "name": "stdout",
     "output_type": "stream",
     "text": [
      "Sunday: 19.29 average comments per post\n",
      "Friday: 17.56 average comments per post\n",
      "Saturday: 15.64 average comments per post\n",
      "Thursday: 13.13 average comments per post\n",
      "Monday: 12.59 average comments per post\n",
      "Wednesday: 12.43 average comments per post\n",
      "Tuesday: 10.59 average comments per post\n"
     ]
    }
   ],
   "source": [
    "table_display_weekday_2 = []\n",
    "table_display_weekday_2_plot = {}\n",
    "for key in comments_by_day:\n",
    "    avg_comments = comments_by_day[key]/counts_by_day[key]\n",
    "    key_tuple = (avg_comments,key)\n",
    "    table_display_weekday_2_plot[key] = comments_by_day[key]/counts_by_day[key]\n",
    "    table_display_weekday_2.append(key_tuple)\n",
    "    sorted_list = sorted(table_display_weekday_2,reverse = True)\n",
    "    \n",
    "weekdays = ['Monday','Tuesday', 'Wednesday', 'Thursday', 'Friday', 'Saturday', 'Sunday']\n",
    "y = []\n",
    "for day in weekdays:\n",
    "    avg = round(float(table_display_weekday_2_plot[day]),2)\n",
    "    y.append(avg)\n",
    "fig4 = go.Figure(data=[go.Bar(\n",
    "            x=weekdays, y=y,\n",
    "            text= y,\n",
    "            textposition='auto',\n",
    "            \n",
    "        )])\n",
    "fig4.update_layout(title = 'AVG NUMBER OF COMMENTS PER DAY',plot_bgcolor='rgba(0,0,0,0)',)\n",
    "fig4.show(renderer = 'png')\n",
    "    \n",
    "for avg,day in sorted_list:\n",
    "    print('{}: {:.2f} average comments per post'.format(day,avg\n",
    "             )\n",
    "         )"
   ]
  },
  {
   "cell_type": "markdown",
   "metadata": {},
   "source": [
    "In this case, there is entirely different information between the number of posts and the average number of comments. We can see that the days with more posts are the beginning of the week, while the posts with more comments are made on the weekend."
   ]
  },
  {
   "cell_type": "markdown",
   "metadata": {},
   "source": [
    "## CONCLUSION\n",
    "\n",
    "**The category with more engagement in Hacker News is the Ask category**. However, the posts with more comments are those who talk about more social issues. We can't categorize those comments, so we haven't dug more into them. \n",
    "\n",
    "If we talk about the **best day to publish is definitely during the weekend**. I have to admit that it has surprised me. We have more posts during the week, but in terms of engagement, the weekend's days are the best, with the Sunday on the top. \n",
    "\n",
    "The **best hour and the most active hour in the platform is the 15.00 in East Coast time** or 20.00 in Central Europe timezone. "
   ]
  }
 ],
 "metadata": {
  "kernelspec": {
   "display_name": "Python 3",
   "language": "python",
   "name": "python3"
  },
  "language_info": {
   "codemirror_mode": {
    "name": "ipython",
    "version": 3
   },
   "file_extension": ".py",
   "mimetype": "text/x-python",
   "name": "python",
   "nbconvert_exporter": "python",
   "pygments_lexer": "ipython3",
   "version": "3.8.3"
  }
 },
 "nbformat": 4,
 "nbformat_minor": 2
}
